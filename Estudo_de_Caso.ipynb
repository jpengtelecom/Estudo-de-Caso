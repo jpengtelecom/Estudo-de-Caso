{
  "nbformat": 4,
  "nbformat_minor": 0,
  "metadata": {
    "colab": {
      "provenance": [],
      "authorship_tag": "ABX9TyOWlB9VyQgo3XdklA3OPWlf",
      "include_colab_link": true
    },
    "kernelspec": {
      "name": "python3",
      "display_name": "Python 3"
    },
    "language_info": {
      "name": "python"
    }
  },
  "cells": [
    {
      "cell_type": "markdown",
      "metadata": {
        "id": "view-in-github",
        "colab_type": "text"
      },
      "source": [
        "<a href=\"https://colab.research.google.com/github/jpengtelecom/Estudo-de-Caso/blob/main/Estudo_de_Caso.ipynb\" target=\"_parent\"><img src=\"https://colab.research.google.com/assets/colab-badge.svg\" alt=\"Open In Colab\"/></a>"
      ]
    },
    {
      "cell_type": "code",
      "source": [
        "!pip install numpy\n",
        "!pip install matplotlib"
      ],
      "metadata": {
        "colab": {
          "base_uri": "https://localhost:8080/"
        },
        "id": "ultztgbzYQzA",
        "outputId": "26aba07e-44c0-4757-c5ae-8fd103acb6a4"
      },
      "execution_count": 4,
      "outputs": [
        {
          "output_type": "stream",
          "name": "stdout",
          "text": [
            "Requirement already satisfied: numpy in /usr/local/lib/python3.10/dist-packages (1.25.2)\n",
            "Requirement already satisfied: matplotlib in /usr/local/lib/python3.10/dist-packages (3.7.1)\n",
            "Requirement already satisfied: contourpy>=1.0.1 in /usr/local/lib/python3.10/dist-packages (from matplotlib) (1.2.1)\n",
            "Requirement already satisfied: cycler>=0.10 in /usr/local/lib/python3.10/dist-packages (from matplotlib) (0.12.1)\n",
            "Requirement already satisfied: fonttools>=4.22.0 in /usr/local/lib/python3.10/dist-packages (from matplotlib) (4.53.0)\n",
            "Requirement already satisfied: kiwisolver>=1.0.1 in /usr/local/lib/python3.10/dist-packages (from matplotlib) (1.4.5)\n",
            "Requirement already satisfied: numpy>=1.20 in /usr/local/lib/python3.10/dist-packages (from matplotlib) (1.25.2)\n",
            "Requirement already satisfied: packaging>=20.0 in /usr/local/lib/python3.10/dist-packages (from matplotlib) (24.1)\n",
            "Requirement already satisfied: pillow>=6.2.0 in /usr/local/lib/python3.10/dist-packages (from matplotlib) (9.4.0)\n",
            "Requirement already satisfied: pyparsing>=2.3.1 in /usr/local/lib/python3.10/dist-packages (from matplotlib) (3.1.2)\n",
            "Requirement already satisfied: python-dateutil>=2.7 in /usr/local/lib/python3.10/dist-packages (from matplotlib) (2.8.2)\n",
            "Requirement already satisfied: six>=1.5 in /usr/local/lib/python3.10/dist-packages (from python-dateutil>=2.7->matplotlib) (1.16.0)\n"
          ]
        }
      ]
    },
    {
      "cell_type": "code",
      "execution_count": 5,
      "metadata": {
        "colab": {
          "base_uri": "https://localhost:8080/"
        },
        "id": "ABZMRa1wVdt4",
        "outputId": "6ba9aa8c-1eb8-40d6-efee-fbf96c3aa951"
      },
      "outputs": [
        {
          "output_type": "stream",
          "name": "stdout",
          "text": [
            "Tempo médio no sistema: 0.23356143601344886\n",
            "Tempo médio de pacotes na fila: 0.03356143601344885\n",
            "Número médio de pacotes no sistema: 1.868491488107591\n",
            "Número médio de pacotes na fila: 1.3424574405379541\n"
          ]
        }
      ],
      "source": [
        "import numpy as np\n",
        "import matplotlib.pyplot as plt\n",
        "\n",
        "# Parâmetros do sistema\n",
        "lambda1 = 8  # taxa média de chegada (pacotes/segundo)\n",
        "mu1 = 5      # taxa média de atendimento mais lenta (pacotes/segundo)\n",
        "mu2 = 1      # taxa média de atendimento mais rápida (pacotes/segundo)\n",
        "J = 16          # tamanho do buffer de fila\n",
        "m = 8           # número mínimo de elementos para comutação de taxa\n",
        "N = 10000        # número de pacotes a serem simulados\n",
        "\n",
        "# Inicialização das variáveis de simulação\n",
        "t = 0           # tempo inicial\n",
        "nq = 0          # número de elementos na fila\n",
        "ns = 0          # número de elementos no servidor\n",
        "k = 0           # número de pacotes que passaram pelo sistema\n",
        "ta = np.random.exponential(1/lambda1)   # tempo da próxima chegada\n",
        "td1 = float('inf')  # tempo da próxima partida no servidor 1\n",
        "td2 = float('inf')  # tempo da próxima partida no servidor 2\n",
        "tp = []         # lista de tempos de partidas completadas\n",
        "ts = []         # lista de tempos no sistema para cada pacote\n",
        "proxima_chegada = t + ta  # tempo de chegada do próximo pacote\n",
        "\n",
        "# Simulação\n",
        "while k < N:  # número máximo de pacotes a serem simulados\n",
        "    if proxima_chegada <= np.minimum(td1, td2):  # próxima ação é uma chegada\n",
        "        t = proxima_chegada\n",
        "        if ns < 2:  # se há servidor disponível\n",
        "            ns += 1\n",
        "            if ns == m:  # comutação de taxa\n",
        "                td1 = t + np.random.exponential(1/mu2)\n",
        "            else:\n",
        "                td1 = t + np.random.exponential(1/mu1)\n",
        "        else:  # não há servidor disponível, colocar na fila\n",
        "            if nq < J:\n",
        "                nq += 1\n",
        "        k += 1\n",
        "        ta = np.random.exponential(1/lambda1)\n",
        "        proxima_chegada = t + ta\n",
        "    else:  # próxima ação é uma partida\n",
        "        t = min(td1, td2)\n",
        "        if t == td1:\n",
        "            ns -= 1\n",
        "            tp.append(t)\n",
        "            ts.append(t - (t - ta))  # tempo no sistema é tempo atual - tempo de chegada do pacote\n",
        "            if ns >= m:\n",
        "                td1 = t + np.random.exponential(1/mu2)\n",
        "            else:\n",
        "                if nq > 0:\n",
        "                    nq -= 1\n",
        "                    td1 = t + np.random.exponential(1/mu1)\n",
        "                else:\n",
        "                    td1 = float('inf')\n",
        "        else:\n",
        "            ns -= 1\n",
        "            tp.append(t)\n",
        "            ts.append(t - (t - ta))  # tempo no sistema é tempo atual - tempo de chegada do pacote\n",
        "            if ns >= m:\n",
        "                td2 = t + np.random.exponential(1/mu2)\n",
        "            else:\n",
        "                if nq > 0:\n",
        "                    nq -= 1\n",
        "                    td2 = t + np.random.exponential(1/mu1)\n",
        "                else:\n",
        "                    td2 = float('inf')\n",
        "\n",
        "# Calcular métricas adicionais\n",
        "tempo_medio_sistema = np.mean(ts)\n",
        "tempo_medio_fila = np.mean(ts) - (1/mu1)  # considera apenas o tempo em fila\n",
        "num_medio_pacotes_sistema = tempo_medio_sistema * lambda1\n",
        "num_medio_pacotes_fila = tempo_medio_fila * lambda1 * nq\n",
        "\n",
        "# Resultados\n",
        "print(\"Tempo médio no sistema:\", tempo_medio_sistema)\n",
        "print(\"Tempo médio de pacotes na fila:\", tempo_medio_fila)\n",
        "print(\"Número médio de pacotes no sistema:\", num_medio_pacotes_sistema)\n",
        "print(\"Número médio de pacotes na fila:\", num_medio_pacotes_fila)\n"
      ]
    }
  ]
}