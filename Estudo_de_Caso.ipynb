{
  "nbformat": 4,
  "nbformat_minor": 0,
  "metadata": {
    "colab": {
      "provenance": [],
      "authorship_tag": "ABX9TyPF8bi84oYeCfJY908qmrev",
      "include_colab_link": true
    },
    "kernelspec": {
      "name": "python3",
      "display_name": "Python 3"
    },
    "language_info": {
      "name": "python"
    }
  },
  "cells": [
    {
      "cell_type": "markdown",
      "metadata": {
        "id": "view-in-github",
        "colab_type": "text"
      },
      "source": [
        "<a href=\"https://colab.research.google.com/github/jpengtelecom/Estudo-de-Caso/blob/main/Estudo_de_Caso.ipynb\" target=\"_parent\"><img src=\"https://colab.research.google.com/assets/colab-badge.svg\" alt=\"Open In Colab\"/></a>"
      ]
    },
    {
      "cell_type": "code",
      "source": [
        "!pip install numpy\n",
        "!pip install matplotlib"
      ],
      "metadata": {
        "colab": {
          "base_uri": "https://localhost:8080/"
        },
        "id": "ultztgbzYQzA",
        "outputId": "a96e94f1-2bfc-4f9c-8ffe-26ad0dd902ff"
      },
      "execution_count": 47,
      "outputs": [
        {
          "output_type": "stream",
          "name": "stdout",
          "text": [
            "Requirement already satisfied: numpy in /usr/local/lib/python3.10/dist-packages (1.25.2)\n",
            "Requirement already satisfied: matplotlib in /usr/local/lib/python3.10/dist-packages (3.7.1)\n",
            "Requirement already satisfied: contourpy>=1.0.1 in /usr/local/lib/python3.10/dist-packages (from matplotlib) (1.2.1)\n",
            "Requirement already satisfied: cycler>=0.10 in /usr/local/lib/python3.10/dist-packages (from matplotlib) (0.12.1)\n",
            "Requirement already satisfied: fonttools>=4.22.0 in /usr/local/lib/python3.10/dist-packages (from matplotlib) (4.53.0)\n",
            "Requirement already satisfied: kiwisolver>=1.0.1 in /usr/local/lib/python3.10/dist-packages (from matplotlib) (1.4.5)\n",
            "Requirement already satisfied: numpy>=1.20 in /usr/local/lib/python3.10/dist-packages (from matplotlib) (1.25.2)\n",
            "Requirement already satisfied: packaging>=20.0 in /usr/local/lib/python3.10/dist-packages (from matplotlib) (24.1)\n",
            "Requirement already satisfied: pillow>=6.2.0 in /usr/local/lib/python3.10/dist-packages (from matplotlib) (9.4.0)\n",
            "Requirement already satisfied: pyparsing>=2.3.1 in /usr/local/lib/python3.10/dist-packages (from matplotlib) (3.1.2)\n",
            "Requirement already satisfied: python-dateutil>=2.7 in /usr/local/lib/python3.10/dist-packages (from matplotlib) (2.8.2)\n",
            "Requirement already satisfied: six>=1.5 in /usr/local/lib/python3.10/dist-packages (from python-dateutil>=2.7->matplotlib) (1.16.0)\n"
          ]
        }
      ]
    },
    {
      "cell_type": "code",
      "execution_count": 48,
      "metadata": {
        "colab": {
          "base_uri": "https://localhost:8080/",
          "height": 211
        },
        "id": "ABZMRa1wVdt4",
        "outputId": "adb972c8-1653-46f1-b9cb-72bcdc7bc69b"
      },
      "outputs": [
        {
          "output_type": "error",
          "ename": "TypeError",
          "evalue": "unsupported operand type(s) for -: 'list' and 'float'",
          "traceback": [
            "\u001b[0;31m---------------------------------------------------------------------------\u001b[0m",
            "\u001b[0;31mTypeError\u001b[0m                                 Traceback (most recent call last)",
            "\u001b[0;32m<ipython-input-48-ccff71420375>\u001b[0m in \u001b[0;36m<cell line: 69>\u001b[0;34m()\u001b[0m\n\u001b[1;32m     67\u001b[0m \u001b[0;31m# Calcular métricas adicionais\u001b[0m\u001b[0;34m\u001b[0m\u001b[0;34m\u001b[0m\u001b[0m\n\u001b[1;32m     68\u001b[0m \u001b[0mtempo_medio_sistema\u001b[0m \u001b[0;34m=\u001b[0m \u001b[0mnp\u001b[0m\u001b[0;34m.\u001b[0m\u001b[0mmean\u001b[0m\u001b[0;34m(\u001b[0m\u001b[0mts\u001b[0m\u001b[0;34m)\u001b[0m \u001b[0;32mif\u001b[0m \u001b[0mlen\u001b[0m\u001b[0;34m(\u001b[0m\u001b[0mts\u001b[0m\u001b[0;34m)\u001b[0m \u001b[0;34m>\u001b[0m \u001b[0;36m0\u001b[0m \u001b[0;32melse\u001b[0m \u001b[0;36m0\u001b[0m\u001b[0;34m\u001b[0m\u001b[0;34m\u001b[0m\u001b[0m\n\u001b[0;32m---> 69\u001b[0;31m \u001b[0mtempo_medio_fila\u001b[0m \u001b[0;34m=\u001b[0m \u001b[0mnp\u001b[0m\u001b[0;34m.\u001b[0m\u001b[0mmean\u001b[0m\u001b[0;34m(\u001b[0m\u001b[0mnp\u001b[0m\u001b[0;34m.\u001b[0m\u001b[0mmaximum\u001b[0m\u001b[0;34m(\u001b[0m\u001b[0;34m(\u001b[0m\u001b[0mts\u001b[0m \u001b[0;34m-\u001b[0m \u001b[0;34m(\u001b[0m\u001b[0;36m1\u001b[0m\u001b[0;34m/\u001b[0m\u001b[0mmu1\u001b[0m\u001b[0;34m)\u001b[0m\u001b[0;34m)\u001b[0m\u001b[0;34m,\u001b[0m \u001b[0;36m0\u001b[0m\u001b[0;34m)\u001b[0m\u001b[0;34m)\u001b[0m  \u001b[0;31m# considera apenas o tempo em fila\u001b[0m\u001b[0;34m\u001b[0m\u001b[0;34m\u001b[0m\u001b[0m\n\u001b[0m\u001b[1;32m     70\u001b[0m \u001b[0mnum_medio_pacotes_sistema\u001b[0m \u001b[0;34m=\u001b[0m \u001b[0mtempo_medio_sistema\u001b[0m \u001b[0;34m*\u001b[0m \u001b[0mlambda1\u001b[0m\u001b[0;34m\u001b[0m\u001b[0;34m\u001b[0m\u001b[0m\n\u001b[1;32m     71\u001b[0m \u001b[0mnum_medio_pacotes_fila\u001b[0m \u001b[0;34m=\u001b[0m \u001b[0mtempo_medio_fila\u001b[0m \u001b[0;34m*\u001b[0m \u001b[0mlambda1\u001b[0m \u001b[0;34m*\u001b[0m \u001b[0mnq\u001b[0m\u001b[0;34m\u001b[0m\u001b[0;34m\u001b[0m\u001b[0m\n",
            "\u001b[0;31mTypeError\u001b[0m: unsupported operand type(s) for -: 'list' and 'float'"
          ]
        }
      ],
      "source": [
        "import numpy as np\n",
        "import matplotlib.pyplot as plt\n",
        "\n",
        "# Parâmetros do sistema\n",
        "lambda1 = 200  # taxa média de chegada (pacotes/segundo)\n",
        "mu1 = 5      # taxa média de atendimento mais lenta (pacotes/segundo)\n",
        "mu2 = 5      # taxa média de atendimento mais rápida (pacotes/segundo)\n",
        "J = 10          # tamanho do buffer de fila\n",
        "m = 5           # número mínimo de elementos para comutação de taxa\n",
        "N = 10000        # número de pacotes a serem simulados\n",
        "\n",
        "# Inicialização das variáveis de simulação\n",
        "t = 0           # tempo inicial\n",
        "nq = 0          # número de elementos na fila\n",
        "ns = 0          # número de elementos no servidor\n",
        "k = 0           # número de pacotes que passaram pelo sistema\n",
        "ta = np.random.exponential(1/lambda1)   # tempo da próxima chegada\n",
        "td1 = float('inf')  # tempo da próxima partida no servidor 1\n",
        "td2 = float('inf')  # tempo da próxima partida no servidor 2\n",
        "tp = []         # lista de tempos de partidas completadas\n",
        "ts = []         # lista de tempos no sistema para cada pacote\n",
        "proxima_chegada = t + ta  # tempo de chegada do próximo pacote\n",
        "\n",
        "# Simulação\n",
        "while k < N:  # número máximo de pacotes a serem simulados\n",
        "    if proxima_chegada <= np.minimum(td1, td2):  # próxima ação é uma chegada\n",
        "        t = proxima_chegada\n",
        "        if ns < 2:  # se há servidor disponível\n",
        "            ns += 1\n",
        "            if ns == m:  # comutação de taxa\n",
        "                td1 = t + np.random.exponential(1/mu2)\n",
        "            else:\n",
        "                td1 = t + np.random.exponential(1/mu1)\n",
        "        else:  # não há servidor disponível, colocar na fila\n",
        "            if nq < J:\n",
        "                nq += 1\n",
        "        k += 1\n",
        "        ta = np.random.exponential(1/lambda1)\n",
        "        proxima_chegada = t + ta\n",
        "    else:  # próxima ação é uma partida\n",
        "        t = min(td1, td2)\n",
        "        if t == td1:\n",
        "            ns -= 1\n",
        "            tp.append(t)\n",
        "            ts.append(t - (t - ta))  # tempo no sistema é tempo atual - tempo de chegada do pacote\n",
        "            if ns >= m:\n",
        "                td1 = t + np.random.exponential(1/mu2)\n",
        "            else:\n",
        "                if nq > 0:\n",
        "                    nq -= 1\n",
        "                    td1 = t + np.random.exponential(1/mu1)\n",
        "                else:\n",
        "                    td1 = float('inf')\n",
        "        else:\n",
        "            ns -= 1\n",
        "            tp.append(t)\n",
        "            ts.append(t - (t - ta))  # tempo no sistema é tempo atual - tempo de chegada do pacote\n",
        "            if ns >= m:\n",
        "                td2 = t + np.random.exponential(1/mu2)\n",
        "            else:\n",
        "                if nq > 0:\n",
        "                    nq -= 1\n",
        "                    td2 = t + np.random.exponential(1/mu1)\n",
        "                else:\n",
        "                    td2 = float('inf')\n",
        "\n",
        "# Calcular métricas adicionais\n",
        "tempo_medio_sistema = np.mean(ts) if len(ts) > 0 else 0\n",
        "tempo_medio_fila = np.mean(np.maximum((ts - (1/mu1)), 0))  # considera apenas o tempo em fila\n",
        "num_medio_pacotes_sistema = tempo_medio_sistema * lambda1\n",
        "num_medio_pacotes_fila = tempo_medio_fila * lambda1 * nq\n",
        "\n",
        "# Resultados\n",
        "print(\"Tempo médio no sistema:\", tempo_medio_sistema)\n",
        "print(\"Tempo médio de pacotes na fila:\", tempo_medio_fila)\n",
        "print(\"Número médio de pacotes no sistema:\", num_medio_pacotes_sistema)\n",
        "print(\"Número médio de pacotes na fila:\", num_medio_pacotes_fila)\n"
      ]
    }
  ]
}